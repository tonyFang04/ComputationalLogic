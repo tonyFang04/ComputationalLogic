{
  "cells": [
    {
      "cell_type": "markdown",
      "metadata": {
        "id": "i0vSCAwPAleW"
      },
      "source": [
        "### Prolexa Plus Demo Notebook \n",
        "This Notebook exemplifies how to use Google Colab to instantiate and interact with Prolexa-plus, a Python extension of Prolexa: a simple question-answering assistant originally written in Prolog.\n",
        "\n",
        "### Prolexa\n",
        "Prolexa defines DCG rules for sentences (that are added to the knowledge base if they don't already follow), questions (that are answered if possible), and commands (e.g., explain why something follows); and prolexa/prolog/prolexa_engine.pl, which implements reasoning by means of meta-interpreters.\n",
        "The Github repo for Prolexa can be found at: \n",
        "https://github.com/So-Cool/prolexa\n",
        "\n",
        "### Prolexa-plus\n",
        "Prolexa Plus is an extension to Prolexa which uses NLTK and Flair for part-of-speech tagging of nouns, verbs and other words that are not currently in Prolexa's lexicon. It was implemented by Gavin Leech and Dan Whettam from the CDT19 cohort.\n",
        "\n",
        "The Github repo for Prolexa-plus can be found at:\n",
        "https://github.com/simply-logical/ComputationalLogic/\n",
        "\n",
        "### Google Colab \n",
        "Google Colab allows you to write and execute Python code in the browser with minimal configuration. This notebook recreates the environment needed to interact with Prolexa-plus by 1) installing SWI-prolog 2) installing prolexa-plus from Github via pip. We then demonstrate two alternative ways of interacting with Prolexa. "
      ]
    },
    {
      "cell_type": "markdown",
      "metadata": {
        "id": "hij-_4uHAzIj"
      },
      "source": [
        "### Install SWI-Prolog\n",
        "\n",
        "Installing non-python dependeincies can be achieved via '!apt-get'"
      ]
    },
    {
      "cell_type": "code",
      "execution_count": null,
      "metadata": {
        "colab": {
          "base_uri": "https://localhost:8080/"
        },
        "id": "HDY7hKs490UH",
        "outputId": "52e947d8-f571-406f-f97d-457ec077a85c"
      },
      "outputs": [
        {
          "name": "stdout",
          "output_type": "stream",
          "text": [
            "Extracting templates from packages: 100%\n"
          ]
        }
      ],
      "source": [
        "!apt-get install swi-prolog -qqq > /dev/null"
      ]
    },
    {
      "cell_type": "markdown",
      "metadata": {
        "id": "URGBePflAi8a"
      },
      "source": [
        "### Install Prolexa-Plus\n",
        "\n",
        "Install the Prolexa-plus branch directly from Github via pip. Note that once you have forked the Github repo and made changes you will have to change this link to reference your own repo. "
      ]
    },
    {
      "cell_type": "code",
      "execution_count": null,
      "metadata": {
        "colab": {
          "base_uri": "https://localhost:8080/"
        },
        "id": "LGMiAYLm77DC",
        "outputId": "66f431a2-3c4b-4735-c898-b54bda8eeaaa"
      },
      "outputs": [
        {
          "name": "stdout",
          "output_type": "stream",
          "text": [
            "\u001b[31m  ERROR: Failed building wheel for prolexa\u001b[0m\n",
            "\u001b[33m  DEPRECATION: prolexa was installed using the legacy 'setup.py install' method, because a wheel could not be built for it. A possible replacement is to fix the wheel build issue reported above. You can find discussion regarding this at https://github.com/pypa/pip/issues/8368.\u001b[0m\n",
            "\u001b[31mERROR: pip's dependency resolver does not currently take into account all the packages that are installed. This behaviour is the source of the following dependency conflicts.\n",
            "google-colab 1.0.0 requires requests~=2.23.0, but you have requests 2.26.0 which is incompatible.\n",
            "datascience 0.10.6 requires folium==0.2.1, but you have folium 0.8.3 which is incompatible.\u001b[0m\n"
          ]
        }
      ],
      "source": [
        "!yes | pip install git+https://github.com/simply-logical/ComputationalLogic/ -qqq > /dev/null"
      ]
    },
    {
      "cell_type": "markdown",
      "metadata": {
        "id": "4Q1TuvlXBFpA"
      },
      "source": [
        "### Instantiate Prolexa \n"
      ]
    },
    {
      "cell_type": "code",
      "execution_count": null,
      "metadata": {
        "colab": {
          "base_uri": "https://localhost:8080/"
        },
        "id": "un81VxmqzUMx",
        "outputId": "77fe5b08-4c5f-4954-83b8-132d31ae5a50"
      },
      "outputs": [
        {
          "name": "stdout",
          "output_type": "stream",
          "text": [
            "2021-10-06 08:50:29,323 --------------------------------------------------------------------------------\n",
            "2021-10-06 08:50:29,324 The model key 'pos' now maps to 'https://huggingface.co/flair/pos-english' on the HuggingFace ModelHub\n",
            "2021-10-06 08:50:29,332  - The most current version of the model is automatically downloaded from there.\n",
            "2021-10-06 08:50:29,334  - (you can alternatively manually download the original model at https://nlp.informatik.hu-berlin.de/resources/models/pos/en-pos-ontonotes-v0.5.pt)\n",
            "2021-10-06 08:50:29,336 --------------------------------------------------------------------------------\n",
            "2021-10-06 08:50:29,406 loading file /root/.flair/models/pos-english/a9a73f6cd878edce8a0fa518db76f441f1cc49c2525b2b4557af278ec2f0659e.121306ea62993d04cd1978398b68396931a39eb47754c8a06a87f325ea70ac63\n"
          ]
        }
      ],
      "source": [
        "from pyswip import Prolog\n",
        "import prolexa.meta_grammar as meta\n",
        "\n",
        "pl = Prolog()\n",
        "meta.reset_grammar()\n",
        "meta.initialise_prolexa(pl)"
      ]
    },
    {
      "cell_type": "markdown",
      "metadata": {
        "id": "UsWtwSz2BX9l"
      },
      "source": [
        "### Input Method 1\n",
        " Built using Google Colab's Input Attributes and is better for one-off parameters"
      ]
    },
    {
      "cell_type": "code",
      "execution_count": null,
      "metadata": {
        "colab": {
          "base_uri": "https://localhost:8080/"
        },
        "id": "J-_HAtkIm19i",
        "outputId": "724c7f39-2d9a-472e-f8b6-1f3a3d70a0df"
      },
      "outputs": [
        {
          "name": "stdout",
          "output_type": "stream",
          "text": [
            "Hello! I'm ProlexaPlus! Tell me anything, ask me anything.\n",
            "tell me about Peter\n",
            "peter is human. peter is mortal. peter is a professor. peter is a teacher\n"
          ]
        }
      ],
      "source": [
        "#@title Prolexa Interact\n",
        "intro = 'Hello! I\\'m ProlexaPlus! Tell me anything, ask me anything.'\n",
        "print(intro)\n",
        "input = 'tell me about Peter'  #@param {type:\"string\"}\n",
        "print(input)\n",
        "first_answer = meta.standardised_query(pl, input)[0]['Output']\n",
        "print(first_answer)"
      ]
    },
    {
      "cell_type": "markdown",
      "metadata": {
        "id": "rpuQmGY7GoFo"
      },
      "source": [
        "### Input Method 2\n",
        " This method of input is built using a MVP iPywidget and is better for user interaction"
      ]
    },
    {
      "cell_type": "code",
      "execution_count": null,
      "metadata": {
        "colab": {
          "base_uri": "https://localhost:8080/",
          "height": 140,
          "referenced_widgets": [
            "8811264ce4e74e13830181ed911d0aad",
            "b047630437e845c1887c418669785c5c",
            "9b6c304e9f2644baadd7c52699f97f4b",
            "7c763c143f9043b39a5af860c2d79d23",
            "f66f034025314913a5bac66234e33df2",
            "d82d12f6a0a249e5a5750af18cbc020e",
            "baf12de9a3644fc1a7fdd32395a9efbd",
            "5c965e705b494f7e8cdb6d02cc5a6553",
            "d35477f4aa2d46009151e655c32ef9b2",
            "866eb75519134b6d8298aeda3b02c808"
          ]
        },
        "id": "Md1u8zJv_Qc3",
        "outputId": "cba62736-2838-4556-c61f-c3e0bbfb97d9"
      },
      "outputs": [
        {
          "data": {
            "application/vnd.jupyter.widget-view+json": {
              "model_id": "8811264ce4e74e13830181ed911d0aad",
              "version_major": 2,
              "version_minor": 0
            },
            "text/plain": [
              "VBox(children=(Textarea(value='tell me about Peter', description='Question:', layout=Layout(height='50px', wid…"
            ]
          },
          "metadata": {},
          "output_type": "display_data"
        }
      ],
      "source": [
        "import ipywidgets as widgets\n",
        "from ipywidgets import Layout\n",
        "from IPython.display import display, HTML\n",
        "\n",
        "w_textbox = widgets.Textarea(\n",
        "    value = 'tell me about Peter',\n",
        "    placeholder='Input text',\n",
        "    description='Question:',\n",
        "    layout=Layout(width='900px', height='50px')\n",
        ")\n",
        "w_button = widgets.Button(\n",
        "    description='Ask',\n",
        "    button_style='info',\n",
        "    layout=Layout(margin='4px 0px 0px 90px')\n",
        ")\n",
        "w_out = widgets.Output(layout={'border': '1px solid black'})\n",
        "\n",
        "\n",
        "def main(obj):\n",
        "    query = w_textbox.value.strip()\n",
        "    answer = meta.standardised_query(pl, query)[0]['Output']\n",
        "    with w_out:\n",
        "        print('?', query)\n",
        "        print(answer)\n",
        "\n",
        "# bind event handler to UI control\n",
        "w_button.on_click(main)\n",
        "# render UI controls in a vertical box\n",
        "widgets.VBox([w_textbox, w_button, w_out])"
      ]
    },
    {
      "cell_type": "code",
      "execution_count": null,
      "metadata": {
        "id": "YIQ9Af5p_S1-"
      },
      "outputs": [],
      "source": []
    }
  ],
  "metadata": {
    "colab": {
      "collapsed_sections": [],
      "name": "Prolexa Plus Demo Notebook.ipynb",
      "provenance": []
    },
    "kernelspec": {
      "display_name": "Python 3",
      "name": "python3"
    },
    "language_info": {
      "name": "python"
    },
    "widgets": {
      "application/vnd.jupyter.widget-state+json": {
        "5c965e705b494f7e8cdb6d02cc5a6553": {
          "model_module": "@jupyter-widgets/controls",
          "model_module_version": "1.5.0",
          "model_name": "ButtonStyleModel",
          "state": {
            "_model_module": "@jupyter-widgets/controls",
            "_model_module_version": "1.5.0",
            "_model_name": "ButtonStyleModel",
            "_view_count": null,
            "_view_module": "@jupyter-widgets/base",
            "_view_module_version": "1.2.0",
            "_view_name": "StyleView",
            "button_color": null,
            "font_weight": ""
          }
        },
        "7c763c143f9043b39a5af860c2d79d23": {
          "model_module": "@jupyter-widgets/controls",
          "model_module_version": "1.5.0",
          "model_name": "ButtonModel",
          "state": {
            "_dom_classes": [],
            "_model_module": "@jupyter-widgets/controls",
            "_model_module_version": "1.5.0",
            "_model_name": "ButtonModel",
            "_view_count": null,
            "_view_module": "@jupyter-widgets/controls",
            "_view_module_version": "1.5.0",
            "_view_name": "ButtonView",
            "button_style": "info",
            "description": "Ask",
            "disabled": false,
            "icon": "",
            "layout": "IPY_MODEL_d35477f4aa2d46009151e655c32ef9b2",
            "style": "IPY_MODEL_5c965e705b494f7e8cdb6d02cc5a6553",
            "tooltip": ""
          }
        },
        "866eb75519134b6d8298aeda3b02c808": {
          "model_module": "@jupyter-widgets/base",
          "model_module_version": "1.2.0",
          "model_name": "LayoutModel",
          "state": {
            "_model_module": "@jupyter-widgets/base",
            "_model_module_version": "1.2.0",
            "_model_name": "LayoutModel",
            "_view_count": null,
            "_view_module": "@jupyter-widgets/base",
            "_view_module_version": "1.2.0",
            "_view_name": "LayoutView",
            "align_content": null,
            "align_items": null,
            "align_self": null,
            "border": "1px solid black",
            "bottom": null,
            "display": null,
            "flex": null,
            "flex_flow": null,
            "grid_area": null,
            "grid_auto_columns": null,
            "grid_auto_flow": null,
            "grid_auto_rows": null,
            "grid_column": null,
            "grid_gap": null,
            "grid_row": null,
            "grid_template_areas": null,
            "grid_template_columns": null,
            "grid_template_rows": null,
            "height": null,
            "justify_content": null,
            "justify_items": null,
            "left": null,
            "margin": null,
            "max_height": null,
            "max_width": null,
            "min_height": null,
            "min_width": null,
            "object_fit": null,
            "object_position": null,
            "order": null,
            "overflow": null,
            "overflow_x": null,
            "overflow_y": null,
            "padding": null,
            "right": null,
            "top": null,
            "visibility": null,
            "width": null
          }
        },
        "8811264ce4e74e13830181ed911d0aad": {
          "model_module": "@jupyter-widgets/controls",
          "model_module_version": "1.5.0",
          "model_name": "VBoxModel",
          "state": {
            "_dom_classes": [],
            "_model_module": "@jupyter-widgets/controls",
            "_model_module_version": "1.5.0",
            "_model_name": "VBoxModel",
            "_view_count": null,
            "_view_module": "@jupyter-widgets/controls",
            "_view_module_version": "1.5.0",
            "_view_name": "VBoxView",
            "box_style": "",
            "children": [
              "IPY_MODEL_9b6c304e9f2644baadd7c52699f97f4b",
              "IPY_MODEL_7c763c143f9043b39a5af860c2d79d23",
              "IPY_MODEL_f66f034025314913a5bac66234e33df2"
            ],
            "layout": "IPY_MODEL_b047630437e845c1887c418669785c5c"
          }
        },
        "9b6c304e9f2644baadd7c52699f97f4b": {
          "model_module": "@jupyter-widgets/controls",
          "model_module_version": "1.5.0",
          "model_name": "TextareaModel",
          "state": {
            "_dom_classes": [],
            "_model_module": "@jupyter-widgets/controls",
            "_model_module_version": "1.5.0",
            "_model_name": "TextareaModel",
            "_view_count": null,
            "_view_module": "@jupyter-widgets/controls",
            "_view_module_version": "1.5.0",
            "_view_name": "TextareaView",
            "continuous_update": true,
            "description": "Question:",
            "description_tooltip": null,
            "disabled": false,
            "layout": "IPY_MODEL_baf12de9a3644fc1a7fdd32395a9efbd",
            "placeholder": "Input text",
            "rows": null,
            "style": "IPY_MODEL_d82d12f6a0a249e5a5750af18cbc020e",
            "value": "tell me about Peter"
          }
        },
        "b047630437e845c1887c418669785c5c": {
          "model_module": "@jupyter-widgets/base",
          "model_module_version": "1.2.0",
          "model_name": "LayoutModel",
          "state": {
            "_model_module": "@jupyter-widgets/base",
            "_model_module_version": "1.2.0",
            "_model_name": "LayoutModel",
            "_view_count": null,
            "_view_module": "@jupyter-widgets/base",
            "_view_module_version": "1.2.0",
            "_view_name": "LayoutView",
            "align_content": null,
            "align_items": null,
            "align_self": null,
            "border": null,
            "bottom": null,
            "display": null,
            "flex": null,
            "flex_flow": null,
            "grid_area": null,
            "grid_auto_columns": null,
            "grid_auto_flow": null,
            "grid_auto_rows": null,
            "grid_column": null,
            "grid_gap": null,
            "grid_row": null,
            "grid_template_areas": null,
            "grid_template_columns": null,
            "grid_template_rows": null,
            "height": null,
            "justify_content": null,
            "justify_items": null,
            "left": null,
            "margin": null,
            "max_height": null,
            "max_width": null,
            "min_height": null,
            "min_width": null,
            "object_fit": null,
            "object_position": null,
            "order": null,
            "overflow": null,
            "overflow_x": null,
            "overflow_y": null,
            "padding": null,
            "right": null,
            "top": null,
            "visibility": null,
            "width": null
          }
        },
        "baf12de9a3644fc1a7fdd32395a9efbd": {
          "model_module": "@jupyter-widgets/base",
          "model_module_version": "1.2.0",
          "model_name": "LayoutModel",
          "state": {
            "_model_module": "@jupyter-widgets/base",
            "_model_module_version": "1.2.0",
            "_model_name": "LayoutModel",
            "_view_count": null,
            "_view_module": "@jupyter-widgets/base",
            "_view_module_version": "1.2.0",
            "_view_name": "LayoutView",
            "align_content": null,
            "align_items": null,
            "align_self": null,
            "border": null,
            "bottom": null,
            "display": null,
            "flex": null,
            "flex_flow": null,
            "grid_area": null,
            "grid_auto_columns": null,
            "grid_auto_flow": null,
            "grid_auto_rows": null,
            "grid_column": null,
            "grid_gap": null,
            "grid_row": null,
            "grid_template_areas": null,
            "grid_template_columns": null,
            "grid_template_rows": null,
            "height": "50px",
            "justify_content": null,
            "justify_items": null,
            "left": null,
            "margin": null,
            "max_height": null,
            "max_width": null,
            "min_height": null,
            "min_width": null,
            "object_fit": null,
            "object_position": null,
            "order": null,
            "overflow": null,
            "overflow_x": null,
            "overflow_y": null,
            "padding": null,
            "right": null,
            "top": null,
            "visibility": null,
            "width": "900px"
          }
        },
        "d35477f4aa2d46009151e655c32ef9b2": {
          "model_module": "@jupyter-widgets/base",
          "model_module_version": "1.2.0",
          "model_name": "LayoutModel",
          "state": {
            "_model_module": "@jupyter-widgets/base",
            "_model_module_version": "1.2.0",
            "_model_name": "LayoutModel",
            "_view_count": null,
            "_view_module": "@jupyter-widgets/base",
            "_view_module_version": "1.2.0",
            "_view_name": "LayoutView",
            "align_content": null,
            "align_items": null,
            "align_self": null,
            "border": null,
            "bottom": null,
            "display": null,
            "flex": null,
            "flex_flow": null,
            "grid_area": null,
            "grid_auto_columns": null,
            "grid_auto_flow": null,
            "grid_auto_rows": null,
            "grid_column": null,
            "grid_gap": null,
            "grid_row": null,
            "grid_template_areas": null,
            "grid_template_columns": null,
            "grid_template_rows": null,
            "height": null,
            "justify_content": null,
            "justify_items": null,
            "left": null,
            "margin": "4px 0px 0px 90px",
            "max_height": null,
            "max_width": null,
            "min_height": null,
            "min_width": null,
            "object_fit": null,
            "object_position": null,
            "order": null,
            "overflow": null,
            "overflow_x": null,
            "overflow_y": null,
            "padding": null,
            "right": null,
            "top": null,
            "visibility": null,
            "width": null
          }
        },
        "d82d12f6a0a249e5a5750af18cbc020e": {
          "model_module": "@jupyter-widgets/controls",
          "model_module_version": "1.5.0",
          "model_name": "DescriptionStyleModel",
          "state": {
            "_model_module": "@jupyter-widgets/controls",
            "_model_module_version": "1.5.0",
            "_model_name": "DescriptionStyleModel",
            "_view_count": null,
            "_view_module": "@jupyter-widgets/base",
            "_view_module_version": "1.2.0",
            "_view_name": "StyleView",
            "description_width": ""
          }
        },
        "f66f034025314913a5bac66234e33df2": {
          "model_module": "@jupyter-widgets/output",
          "model_module_version": "1.0.0",
          "model_name": "OutputModel",
          "state": {
            "_dom_classes": [],
            "_model_module": "@jupyter-widgets/output",
            "_model_module_version": "1.0.0",
            "_model_name": "OutputModel",
            "_view_count": null,
            "_view_module": "@jupyter-widgets/output",
            "_view_module_version": "1.0.0",
            "_view_name": "OutputView",
            "layout": "IPY_MODEL_866eb75519134b6d8298aeda3b02c808",
            "msg_id": "",
            "outputs": [
              {
                "name": "stdout",
                "output_type": "stream",
                "text": [
                  "? tell me about Peter\n",
                  "peter is human. peter is mortal. peter is a professor. peter is a teacher\n"
                ]
              }
            ]
          }
        }
      }
    }
  },
  "nbformat": 4,
  "nbformat_minor": 0
}
